{
 "cells": [
  {
   "cell_type": "code",
   "execution_count": 71,
   "metadata": {},
   "outputs": [],
   "source": [
    "import pandas as pd\n",
    "import numpy as np\n",
    "from pandas.core.indexing import _IndexSlice\n",
    "import matplotlib.pyplot as plt\n",
    "from functools import partial\n",
    "\n",
    "from pathlib import Path\n",
    "\n",
    "idx: _IndexSlice = pd.IndexSlice"
   ]
  },
  {
   "cell_type": "code",
   "execution_count": 3,
   "metadata": {},
   "outputs": [],
   "source": [
    "# Define the path to the data\n",
    "DATA_PATH = Path(\"data/01_known_effects\")"
   ]
  },
  {
   "cell_type": "code",
   "execution_count": 4,
   "metadata": {},
   "outputs": [],
   "source": [
    "# Load the list of samples\n",
    "samples = pd.read_csv(\n",
    "    DATA_PATH / \"experiments.csv\",\n",
    "    index_col=0\n",
    "    )\n",
    "\n",
    "# Create an index from the experiment table\n",
    "samples_index_fields = {\n",
    "        'Label': \"label\",\n",
    "        # 'Effect in PSET',\n",
    "        'Treatment': \"treatment\",\n",
    "        'Experimenter, location': \"experimenter_location\",\n",
    "        'Strain': \"strain\",\n",
    "        'CO2 level': \"CO2_level\",\n",
    "        'Cultivation + experiment temperature': \"temperature\",\n",
    "        'Cultivation light intensity': \"Light_intensity\",\n",
    "        'Dark or light acclimated': \"light_acclimation\",\n",
    "        'Growth light color (nm)': \"light_color\",\n",
    "        'Cultivator': \"cultivator\",\n",
    "        'Medium': \"medium\",\n",
    "        'Fluorometer': \"fluorometer\",\n",
    "        'SP color (nm)': \"SP_color\",\n",
    "        'SP intensity': \"SP_intensity\",\n",
    "        'Measuring vessel': \"vessel\",\n",
    "        'OD680 MC-1000': \"OD680\",\n",
    "        'OD720 MC-1000': \"OD720\",\n",
    "        'ΔOD': \"deltaOD\",\n",
    "        'OD680/720 raw': \"OD680_720\",\n",
    "}\n",
    "\n",
    "samples_index = pd.MultiIndex.from_frame(\n",
    "    samples.reset_index().loc[:, list(samples_index_fields.keys())]\n",
    ")"
   ]
  },
  {
   "cell_type": "code",
   "execution_count": 5,
   "metadata": {},
   "outputs": [],
   "source": [
    "# for i in samples_index_fields.values():\n",
    "#     print(f\"{i},\")# : str | list[str | int] | slice | None = slice(None),\")\n",
    "\n",
    "# Create a function for easy indexing\n",
    "def didx(\n",
    "    label: str | list[str | int] | slice | None = slice(None),\n",
    "    treatment: str | list[str | int] | slice | None = slice(None),\n",
    "    experimenter_location: str | list[str | int] | slice | None = slice(None),\n",
    "    strain: str | list[str | int] | slice | None = slice(None),\n",
    "    CO2_level: str | list[str | int] | slice | None = slice(None),\n",
    "    temperature: str | list[str | int] | slice | None = slice(None),\n",
    "    Light_intensity: str | list[str | int] | slice | None = slice(None),\n",
    "    light_acclimation: str | list[str | int] | slice | None = slice(None),\n",
    "    light_color: str | list[str | int] | slice | None = slice(None),\n",
    "    cultivator: str | list[str | int] | slice | None = slice(None),\n",
    "    medium: str | list[str | int] | slice | None = slice(None),\n",
    "    fluorometer: str | list[str | int] | slice | None = slice(None),\n",
    "    SP_color: str | list[str | int] | slice | None = slice(None),\n",
    "    SP_intensity: str | list[str | int] | slice | None = slice(None),\n",
    "    vessel: str | list[str | int] | slice | None = slice(None),\n",
    "    OD680: str | list[str | int] | slice | None = slice(None),\n",
    "    OD720: str | list[str | int] | slice | None = slice(None),\n",
    "    deltaOD: str | list[str | int] | slice | None = slice(None),\n",
    "    OD680_720: str | list[str | int] | slice | None = slice(None),\n",
    ") -> _IndexSlice:\n",
    "    res: list[str | list[str | int] | slice | None] = [\n",
    "        x\n",
    "        for x in [\n",
    "            label,\n",
    "            treatment,\n",
    "            experimenter_location,\n",
    "            strain,\n",
    "            CO2_level,\n",
    "            temperature,\n",
    "            Light_intensity,\n",
    "            light_acclimation,\n",
    "            light_color,\n",
    "            cultivator,\n",
    "            medium,\n",
    "            fluorometer,\n",
    "            SP_color,\n",
    "            SP_intensity,\n",
    "            vessel,\n",
    "            OD680,\n",
    "            OD720,\n",
    "            deltaOD,\n",
    "            OD680_720,\n",
    "        ]\n",
    "        if x is not None\n",
    "    ]\n",
    "    return idx[*res]"
   ]
  },
  {
   "cell_type": "markdown",
   "metadata": {},
   "source": [
    "## Load the data"
   ]
  },
  {
   "cell_type": "code",
   "execution_count": 38,
   "metadata": {},
   "outputs": [],
   "source": [
    "# Get the paths to the samples files\n",
    "files = {}\n",
    "\n",
    "for i in samples_index.get_level_values(0):\n",
    "    _index = f\"{i:04}\"\n",
    "\n",
    "    # Get the file to the current index\n",
    "    file = list(DATA_PATH.glob(f\"ojip_data/{_index}*\"))[0]\n",
    "\n",
    "    # Set the options for reading the data based on the used fluorometer\n",
    "    if samples.loc[i, \"Fluorometer\"] == \"MULTI-COLOR-PAM\":\n",
    "        skiprows = 0\n",
    "        skipfooter = 0\n",
    "        sep=\";\"\n",
    "        index_col=0\n",
    "        select_col = \"Fluo, V\"\n",
    "        time_to_ms = 1\n",
    "    elif samples.loc[i, \"Fluorometer\"] == \"AquaPen\":\n",
    "        skiprows = 7\n",
    "        skipfooter = 38\n",
    "        sep=r\"\\s\"\n",
    "        index_col=0\n",
    "        select_col = \"OJIP\"\n",
    "        time_to_ms = 1e-3\n",
    "    else:\n",
    "        print(i, samples.loc[i, \"Fluorometer\"])\n",
    "        break\n",
    "\n",
    "    # Read the data with the pre-defined options\n",
    "    _df = pd.read_table(\n",
    "        file,\n",
    "        skiprows=skiprows,\n",
    "        skipfooter=skipfooter,\n",
    "        sep=sep,\n",
    "        index_col=index_col,\n",
    "        engine='c' if skipfooter == 0 else 'python'\n",
    "    )[select_col]\n",
    "\n",
    "    _df.index = pd.Index(np.round(_df.index * time_to_ms, 2))\n",
    "\n",
    "    # Save the data\n",
    "    files[i] = _df\n",
    "\n",
    "# Concatenate the data\n",
    "df = pd.DataFrame(files).sort_index(axis=1)\n",
    "df.columns = samples_index"
   ]
  },
  {
   "cell_type": "markdown",
   "metadata": {},
   "source": [
    "## Example plots"
   ]
  },
  {
   "cell_type": "code",
   "execution_count": null,
   "metadata": {},
   "outputs": [],
   "source": [
    "# Example plots\n",
    "\n",
    "ax = df.loc[:, didx(fluorometer=\"MULTI-COLOR-PAM\", CO2_level=\"Air\", )].iloc[:, :5].dropna().plot(legend=False)\n",
    "ax.set_xscale(\"log\")\n",
    "ax.set_xlabel(\"Time [ms]\")\n",
    "ax.set_ylabel(\"Fluorescence [Detector V]\")\n",
    "ax.set_title(\"MCPAM - Example\")\n",
    "\n",
    "ax = df.loc[:, didx(fluorometer=\"AquaPen\", CO2_level=\"Air\")].dropna().plot(legend=False)\n",
    "ax.set_xscale(\"log\")\n",
    "ax.set_xlabel(\"Time [ms]\")\n",
    "ax.set_ylabel(\"Fluorescence [AU]\")\n",
    "ax.set_title(\"AquaPen - Example\")"
   ]
  },
  {
   "cell_type": "markdown",
   "metadata": {},
   "source": [
    "## Training with Feature selection\n",
    "Exclude AquaPen data until a conversion is found"
   ]
  },
  {
   "cell_type": "code",
   "execution_count": 98,
   "metadata": {},
   "outputs": [],
   "source": [
    "# Subset the data to the samples and time to be included in the analysis \n",
    "dat = df.loc[0.01:, didx(fluorometer=\"MULTI-COLOR-PAM\")].dropna()"
   ]
  },
  {
   "cell_type": "markdown",
   "metadata": {},
   "source": [
    "In Tran2024, nine features were extracted:\n",
    "- F0\n",
    "- Fm\n",
    "- F(50 µs)\n",
    "- F(100 µs)\n",
    "- F(300 µs)\n",
    "- F(2 ms)\n",
    "- F(30 ms)\n",
    "- Timing of Fm\n",
    "- Area above the curve between F0 and Fm"
   ]
  },
  {
   "cell_type": "code",
   "execution_count": null,
   "metadata": {},
   "outputs": [],
   "source": [
    "# Plot the selected data\n",
    "dat = df.loc[0.01:, didx(fluorometer=\"MULTI-COLOR-PAM\")].dropna()\n",
    "ax = dat.plot(legend=False)\n",
    "\n",
    "for t in [0.05, 0.1, 0.3, 2, 30]:\n",
    "    ax.axvline(t)\n",
    "\n",
    "ax.set_xscale(\"log\")"
   ]
  },
  {
   "cell_type": "markdown",
   "metadata": {},
   "source": [
    "### Potential other features:\n",
    "- Log-spaced subsampling\n",
    "- Timing of inflection points (I, J)"
   ]
  },
  {
   "cell_type": "code",
   "execution_count": 127,
   "metadata": {},
   "outputs": [],
   "source": [
    "# Create a feature table\n",
    "df_features = pd.DataFrame(index=dat.columns, columns=pd.MultiIndex([[],[]], [[],[]], dtype=[str, float]))\n",
    "\n",
    "# F0 [AU]\n",
    "df_features.loc[:, idx[\"F0 [AU]\", np.nan]] = dat.iloc[:3].mean()\n",
    "\n",
    "# Fm [AU]\n",
    "df_features.loc[:, idx[\"Fm [AU]\", np.nan]] = dat.max()\n",
    "\n",
    "# Fm timing [ms]\n",
    "df_features.loc[:, idx[\"Fm time [ms]\", np.nan]] = dat.idxmax()"
   ]
  },
  {
   "cell_type": "code",
   "execution_count": 130,
   "metadata": {},
   "outputs": [],
   "source": [
    "# Time points, logspaced\n",
    "time_points = np.logspace(\n",
    "    np.log10(dat.index[0]),\n",
    "    np.log10(dat.index[-1]),\n",
    "    10\n",
    ")[1:-1]\n",
    "\n",
    "# Pre-populate the interp function\n",
    "_interp = partial(np.interp, time_points, dat.index)\n",
    "\n",
    "# Interpolate the selected points\n",
    "F_sampled = dat.apply(_interp)\n",
    "F_sampled.index = pd.MultiIndex.from_product([[\"Fsampled\"], time_points])\n",
    "\n",
    "# Add sampled points to features\n",
    "df_features = pd.concat([df_features, F_sampled.T], axis=1)"
   ]
  },
  {
   "cell_type": "code",
   "execution_count": null,
   "metadata": {},
   "outputs": [],
   "source": [
    "df_features"
   ]
  },
  {
   "cell_type": "code",
   "execution_count": null,
   "metadata": {},
   "outputs": [],
   "source": []
  }
 ],
 "metadata": {
  "kernelspec": {
   "display_name": "ojipml",
   "language": "python",
   "name": "python3"
  },
  "language_info": {
   "codemirror_mode": {
    "name": "ipython",
    "version": 3
   },
   "file_extension": ".py",
   "mimetype": "text/x-python",
   "name": "python",
   "nbconvert_exporter": "python",
   "pygments_lexer": "ipython3",
   "version": "3.11.0"
  }
 },
 "nbformat": 4,
 "nbformat_minor": 2
}
